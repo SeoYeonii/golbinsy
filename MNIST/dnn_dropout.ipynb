{
 "cells": [
  {
   "cell_type": "code",
   "execution_count": 8,
   "metadata": {},
   "outputs": [
    {
     "name": "stdout",
     "output_type": "stream",
     "text": [
      "Extracting ./mnist/data/train-images-idx3-ubyte.gz\n",
      "Extracting ./mnist/data/train-labels-idx1-ubyte.gz\n",
      "Extracting ./mnist/data/t10k-images-idx3-ubyte.gz\n",
      "Extracting ./mnist/data/t10k-labels-idx1-ubyte.gz\n"
     ]
    }
   ],
   "source": [
    "# 과적합 방지 기법 중 하나인 Dropout 을 사용해봅니다.\n",
    "import tensorflow as tf\n",
    "import numpy as np\n",
    "import matplotlib.pyplot as plt\n",
    "\n",
    "from tensorflow.examples.tutorials.mnist import input_data\n",
    "mnist = input_data.read_data_sets(\"./mnist/data/\", one_hot=True)"
   ]
  },
  {
   "cell_type": "code",
   "execution_count": 9,
   "metadata": {},
   "outputs": [],
   "source": [
    "import datetime"
   ]
  },
  {
   "cell_type": "code",
   "execution_count": 10,
   "metadata": {},
   "outputs": [],
   "source": [
    "#########\n",
    "# 신경망 모델 구성\n",
    "######\n",
    "X = tf.placeholder(tf.float32, [None, 784])\n",
    "Y = tf.placeholder(tf.float32, [None, 10])\n",
    "keep_prob = tf.placeholder(tf.float32)\n",
    "\n",
    "W1 = tf.Variable(tf.random_normal([784, 256], stddev=0.01))\n",
    "L1 = tf.nn.relu(tf.matmul(X, W1))\n",
    "# 텐서플로우에 내장된 함수를 이용하여 dropout 을 적용합니다.\n",
    "# 함수에 적용할 레이어와 확률만 넣어주면 됩니다. 겁나 매직!!\n",
    "L1 = tf.nn.dropout(L1, keep_prob)\n",
    "\n",
    "W2 = tf.Variable(tf.random_normal([256, 256], stddev=0.01))\n",
    "L2 = tf.nn.relu(tf.matmul(L1, W2))\n",
    "L2 = tf.nn.dropout(L2, keep_prob)\n",
    "\n",
    "W3 = tf.Variable(tf.random_normal([256, 10], stddev=0.01))\n",
    "model = tf.matmul(L2, W3)"
   ]
  },
  {
   "cell_type": "code",
   "execution_count": 11,
   "metadata": {},
   "outputs": [],
   "source": [
    "cost = tf.reduce_mean(tf.nn.softmax_cross_entropy_with_logits(logits=model, labels=Y))\n",
    "optimizer = tf.train.AdamOptimizer(0.001).minimize(cost)"
   ]
  },
  {
   "cell_type": "code",
   "execution_count": 13,
   "metadata": {},
   "outputs": [
    {
     "name": "stdout",
     "output_type": "stream",
     "text": [
      "Epoch: 0001 Avg. cost = 0.422\n",
      "Epoch: 0002 Avg. cost = 0.161\n",
      "Epoch: 0003 Avg. cost = 0.113\n",
      "Epoch: 0004 Avg. cost = 0.087\n",
      "Epoch: 0005 Avg. cost = 0.070\n",
      "Epoch: 0006 Avg. cost = 0.061\n",
      "Epoch: 0007 Avg. cost = 0.053\n",
      "Epoch: 0008 Avg. cost = 0.044\n",
      "Epoch: 0009 Avg. cost = 0.042\n",
      "Epoch: 0010 Avg. cost = 0.037\n",
      "Epoch: 0011 Avg. cost = 0.034\n",
      "Epoch: 0012 Avg. cost = 0.032\n",
      "Epoch: 0013 Avg. cost = 0.028\n",
      "Epoch: 0014 Avg. cost = 0.027\n",
      "Epoch: 0015 Avg. cost = 0.024\n",
      "Epoch: 0016 Avg. cost = 0.025\n",
      "Epoch: 0017 Avg. cost = 0.022\n",
      "Epoch: 0018 Avg. cost = 0.022\n",
      "Epoch: 0019 Avg. cost = 0.021\n",
      "Epoch: 0020 Avg. cost = 0.022\n",
      "Epoch: 0021 Avg. cost = 0.018\n",
      "Epoch: 0022 Avg. cost = 0.018\n",
      "Epoch: 0023 Avg. cost = 0.019\n",
      "Epoch: 0024 Avg. cost = 0.019\n",
      "Epoch: 0025 Avg. cost = 0.017\n",
      "Epoch: 0026 Avg. cost = 0.017\n",
      "Epoch: 0027 Avg. cost = 0.015\n",
      "Epoch: 0028 Avg. cost = 0.016\n",
      "Epoch: 0029 Avg. cost = 0.016\n",
      "Epoch: 0030 Avg. cost = 0.015\n",
      "Epoch: 0031 Avg. cost = 0.016\n",
      "Epoch: 0032 Avg. cost = 0.015\n",
      "Epoch: 0033 Avg. cost = 0.017\n",
      "Epoch: 0034 Avg. cost = 0.013\n",
      "Epoch: 0035 Avg. cost = 0.014\n",
      "Epoch: 0036 Avg. cost = 0.014\n",
      "Epoch: 0037 Avg. cost = 0.013\n",
      "Epoch: 0038 Avg. cost = 0.013\n",
      "Epoch: 0039 Avg. cost = 0.014\n",
      "Epoch: 0040 Avg. cost = 0.014\n",
      "Epoch: 0041 Avg. cost = 0.014\n",
      "Epoch: 0042 Avg. cost = 0.012\n",
      "Epoch: 0043 Avg. cost = 0.013\n",
      "Epoch: 0044 Avg. cost = 0.014\n",
      "Epoch: 0045 Avg. cost = 0.012\n",
      "Epoch: 0046 Avg. cost = 0.012\n",
      "Epoch: 0047 Avg. cost = 0.014\n",
      "Epoch: 0048 Avg. cost = 0.013\n",
      "Epoch: 0049 Avg. cost = 0.013\n",
      "Epoch: 0050 Avg. cost = 0.012\n",
      "Epoch: 0051 Avg. cost = 0.011\n",
      "Epoch: 0052 Avg. cost = 0.010\n",
      "Epoch: 0053 Avg. cost = 0.012\n",
      "Epoch: 0054 Avg. cost = 0.010\n",
      "Epoch: 0055 Avg. cost = 0.013\n",
      "Epoch: 0056 Avg. cost = 0.008\n",
      "Epoch: 0057 Avg. cost = 0.010\n",
      "Epoch: 0058 Avg. cost = 0.012\n",
      "Epoch: 0059 Avg. cost = 0.015\n",
      "Epoch: 0060 Avg. cost = 0.011\n",
      "Epoch: 0061 Avg. cost = 0.010\n",
      "Epoch: 0062 Avg. cost = 0.013\n",
      "Epoch: 0063 Avg. cost = 0.010\n",
      "Epoch: 0064 Avg. cost = 0.012\n",
      "Epoch: 0065 Avg. cost = 0.011\n",
      "Epoch: 0066 Avg. cost = 0.008\n",
      "Epoch: 0067 Avg. cost = 0.011\n",
      "Epoch: 0068 Avg. cost = 0.011\n",
      "Epoch: 0069 Avg. cost = 0.009\n",
      "Epoch: 0070 Avg. cost = 0.011\n",
      "Epoch: 0071 Avg. cost = 0.008\n",
      "Epoch: 0072 Avg. cost = 0.013\n",
      "Epoch: 0073 Avg. cost = 0.009\n",
      "Epoch: 0074 Avg. cost = 0.011\n",
      "Epoch: 0075 Avg. cost = 0.011\n",
      "Epoch: 0076 Avg. cost = 0.008\n",
      "Epoch: 0077 Avg. cost = 0.008\n",
      "Epoch: 0078 Avg. cost = 0.009\n",
      "Epoch: 0079 Avg. cost = 0.010\n",
      "Epoch: 0080 Avg. cost = 0.011\n",
      "Epoch: 0081 Avg. cost = 0.010\n",
      "Epoch: 0082 Avg. cost = 0.010\n",
      "Epoch: 0083 Avg. cost = 0.007\n",
      "Epoch: 0084 Avg. cost = 0.011\n",
      "Epoch: 0085 Avg. cost = 0.011\n",
      "Epoch: 0086 Avg. cost = 0.008\n",
      "Epoch: 0087 Avg. cost = 0.009\n",
      "Epoch: 0088 Avg. cost = 0.008\n",
      "Epoch: 0089 Avg. cost = 0.009\n",
      "Epoch: 0090 Avg. cost = 0.010\n",
      "Epoch: 0091 Avg. cost = 0.009\n",
      "Epoch: 0092 Avg. cost = 0.009\n",
      "Epoch: 0093 Avg. cost = 0.008\n",
      "Epoch: 0094 Avg. cost = 0.010\n",
      "Epoch: 0095 Avg. cost = 0.009\n",
      "Epoch: 0096 Avg. cost = 0.008\n",
      "Epoch: 0097 Avg. cost = 0.009\n",
      "Epoch: 0098 Avg. cost = 0.013\n",
      "Epoch: 0099 Avg. cost = 0.010\n",
      "Epoch: 0100 Avg. cost = 0.007\n",
      "최적화 완료!\n",
      "how_much_time = 0:05:24.366986\n"
     ]
    }
   ],
   "source": [
    "#########\n",
    "# 신경망 모델 학습\n",
    "######\n",
    "init = tf.global_variables_initializer()\n",
    "sess = tf.Session()\n",
    "sess.run(init)\n",
    "\n",
    "batch_size = 100\n",
    "total_batch = int(mnist.train.num_examples / batch_size)\n",
    "\n",
    "s1 = datetime.datetime.now()\n",
    "for epoch in range(100):\n",
    "    total_cost = 0\n",
    "\n",
    "    for i in range(total_batch):\n",
    "        batch_xs, batch_ys = mnist.train.next_batch(batch_size)\n",
    "\n",
    "        _, cost_val = sess.run([optimizer, cost],\n",
    "                               feed_dict={X: batch_xs,\n",
    "                                          Y: batch_ys,\n",
    "                                          keep_prob: 0.8})\n",
    "        total_cost += cost_val\n",
    "\n",
    "    print('Epoch:', '%04d' % (epoch + 1),\n",
    "          'Avg. cost =', '{:.3f}'.format(total_cost / total_batch))\n",
    "\n",
    "s2 = datetime.datetime.now()\n",
    "\n",
    "print('최적화 완료!')\n",
    "print(\"how_much_time =\", s2-s1)"
   ]
  },
  {
   "cell_type": "code",
   "execution_count": 6,
   "metadata": {},
   "outputs": [
    {
     "name": "stdout",
     "output_type": "stream",
     "text": [
      "정확도: 0.983\n"
     ]
    }
   ],
   "source": [
    "#########\n",
    "# 결과 확인\n",
    "######\n",
    "is_correct = tf.equal(tf.argmax(model, 1), tf.argmax(Y, 1))\n",
    "accuracy = tf.reduce_mean(tf.cast(is_correct, tf.float32))\n",
    "print('정확도:', sess.run(accuracy,\n",
    "                        feed_dict={X: mnist.test.images,\n",
    "                                   Y: mnist.test.labels,\n",
    "                                   keep_prob: 1}))"
   ]
  },
  {
   "cell_type": "code",
   "execution_count": null,
   "metadata": {},
   "outputs": [],
   "source": [
    "#########\n",
    "# 결과 확인 (matplot)\n",
    "######\n",
    "labels = sess.run(model,\n",
    "                  feed_dict={X: mnist.test.images,\n",
    "                             Y: mnist.test.labels,\n",
    "                             keep_prob: 1})\n",
    "\n",
    "fig = plt.figure()\n",
    "for i in range(10):\n",
    "    subplot = fig.add_subplot(2, 5, i + 1)\n",
    "    subplot.set_xticks([])\n",
    "    subplot.set_yticks([])\n",
    "    subplot.set_title('%d' % np.argmax(labels[i]))\n",
    "    subplot.imshow(mnist.test.images[i].reshape((28, 28)),\n",
    "                   cmap=plt.cm.gray_r)\n",
    "\n",
    "print(plt.show())"
   ]
  }
 ],
 "metadata": {
  "kernelspec": {
   "display_name": "Python [conda env:tensorflow]",
   "language": "python",
   "name": "conda-env-tensorflow-py"
  },
  "language_info": {
   "codemirror_mode": {
    "name": "ipython",
    "version": 3
   },
   "file_extension": ".py",
   "mimetype": "text/x-python",
   "name": "python",
   "nbconvert_exporter": "python",
   "pygments_lexer": "ipython3",
   "version": "3.6.3"
  }
 },
 "nbformat": 4,
 "nbformat_minor": 2
}
